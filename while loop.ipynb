{
 "cells": [
  {
   "cell_type": "code",
   "execution_count": 3,
   "id": "b20c0fc3-7e40-4905-97f0-730a3c450778",
   "metadata": {},
   "outputs": [
    {
     "data": {
      "text/plain": [
       "[0, 1, 2, 3, 4, 5, 6, 7, 8, 9]"
      ]
     },
     "execution_count": 3,
     "metadata": {},
     "output_type": "execute_result"
    }
   ],
   "source": [
    "list(range(10))"
   ]
  },
  {
   "cell_type": "markdown",
   "id": "e0228f2f-8cf1-4e11-abd6-241f5e041c57",
   "metadata": {},
   "source": [
    "#sum up the number till some point"
   ]
  },
  {
   "cell_type": "code",
   "execution_count": 4,
   "id": "2c57607a-2d7e-473d-aba3-96eeb6fded0c",
   "metadata": {},
   "outputs": [
    {
     "name": "stdout",
     "output_type": "stream",
     "text": [
      "enter your limit:3\n"
     ]
    },
    {
     "data": {
      "text/plain": [
       "6"
      ]
     },
     "execution_count": 4,
     "metadata": {},
     "output_type": "execute_result"
    }
   ],
   "source": [
    "n = int(input(\"enter your limit:\"))\n",
    "starting_point = 0 \n",
    "counter = 1\n",
    "\n",
    "while counter <= n:\n",
    "    starting_point = starting_point + counter\n",
    "    counter = counter + 1\n",
    "starting_point"
   ]
  },
  {
   "cell_type": "code",
   "execution_count": null,
   "id": "17e5a4ea-e325-45aa-9a65-09f473bc67f6",
   "metadata": {},
   "outputs": [],
   "source": [
    "1,2,3,4,5"
   ]
  },
  {
   "cell_type": "code",
   "execution_count": 5,
   "id": "396ddcea-3d75-4410-8455-a40831f3dccd",
   "metadata": {},
   "outputs": [
    {
     "name": "stdout",
     "output_type": "stream",
     "text": [
      "enter your number5\n"
     ]
    },
    {
     "data": {
      "text/plain": [
       "120"
      ]
     },
     "execution_count": 5,
     "metadata": {},
     "output_type": "execute_result"
    }
   ],
   "source": [
    "number = int(input(\"enter your number\"))\n",
    "factorial = 1 \n",
    "while number > 0 :\n",
    "    factorial = factorial*number\n",
    "    number = number-1\n",
    "factorial"
   ]
  },
  {
   "cell_type": "code",
   "execution_count": 9,
   "id": "0a60e177-e6a9-4e3e-bedf-dbad56412ceb",
   "metadata": {},
   "outputs": [],
   "source": [
    "#Finonacci series "
   ]
  },
  {
   "cell_type": "code",
   "execution_count": 12,
   "id": "937c59f0-7e9a-4ee5-8228-b838688c140f",
   "metadata": {},
   "outputs": [
    {
     "name": "stdin",
     "output_type": "stream",
     "text": [
      "enter the number of element you are looking for  10\n"
     ]
    },
    {
     "name": "stdout",
     "output_type": "stream",
     "text": [
      "0\n",
      "1\n",
      "1\n",
      "2\n",
      "3\n",
      "5\n",
      "8\n",
      "13\n",
      "21\n",
      "34\n"
     ]
    }
   ],
   "source": [
    "number = int(input(\"enter the number of element you are looking for \"))\n",
    "a , b  = 0 , 1 \n",
    "counter = 0 \n",
    "while counter < number : \n",
    "    print(a)\n",
    "    c = a+ b\n",
    "    a = b \n",
    "    b = c \n",
    "    counter= counter+ 1\n",
    "    "
   ]
  },
  {
   "cell_type": "code",
   "execution_count": 13,
   "id": "4a25e76a-ddc4-4cb8-9553-270fa6cd29a4",
   "metadata": {},
   "outputs": [
    {
     "name": "stdout",
     "output_type": "stream",
     "text": [
      "0\n",
      "1\n",
      "1\n",
      "2\n",
      "3\n",
      "5\n",
      "8\n",
      "13\n",
      "21\n",
      "34\n"
     ]
    }
   ],
   "source": [
    "a , b  = 0 , 1 \n",
    "\n",
    "for i in range(10) : \n",
    "    print(a)\n",
    "    c = a+ b\n",
    "    a = b \n",
    "    b = c \n",
    "    "
   ]
  },
  {
   "cell_type": "code",
   "execution_count": 14,
   "id": "b39c87c4-b01f-454d-a90e-9822b4dc241b",
   "metadata": {},
   "outputs": [],
   "source": [
    "s = \"sudh\""
   ]
  },
  {
   "cell_type": "code",
   "execution_count": 15,
   "id": "a7b9455a-d6ce-4a42-8022-015db54b6f71",
   "metadata": {},
   "outputs": [
    {
     "data": {
      "text/plain": [
       "'hdus'"
      ]
     },
     "execution_count": 15,
     "metadata": {},
     "output_type": "execute_result"
    }
   ],
   "source": [
    "s[::-1]"
   ]
  },
  {
   "cell_type": "code",
   "execution_count": 17,
   "id": "8f7c035e-d404-45b2-93a8-0962001ea509",
   "metadata": {},
   "outputs": [
    {
     "data": {
      "text/plain": [
       "4"
      ]
     },
     "execution_count": 17,
     "metadata": {},
     "output_type": "execute_result"
    }
   ],
   "source": [
    "len(word)"
   ]
  },
  {
   "cell_type": "code",
   "execution_count": 4,
   "id": "c0cea0c9-27e0-4cb4-ba61-34c4a8cc44da",
   "metadata": {},
   "outputs": [
    {
     "name": "stdout",
     "output_type": "stream",
     "text": [
      "enter your string for reversalajay\n"
     ]
    }
   ],
   "source": [
    "word = input(\"enter your string for reversal\")"
   ]
  },
  {
   "cell_type": "code",
   "execution_count": 5,
   "id": "07d39aa3-dc96-46a1-83db-f488efc16acd",
   "metadata": {},
   "outputs": [
    {
     "name": "stdout",
     "output_type": "stream",
     "text": [
      "yaja\n"
     ]
    }
   ],
   "source": [
    "reverse = \"\"\n",
    "length = len(word)\n",
    "while length > 0 :\n",
    "    reverse = reverse + word[length -1]\n",
    "    length = length -1\n",
    "print(reverse)\n",
    "    \n"
   ]
  },
  {
   "cell_type": "code",
   "execution_count": 21,
   "id": "ecd9dacf-7dd2-4d9c-9759-6f73cb562e2c",
   "metadata": {},
   "outputs": [],
   "source": [
    "#print table of numbers "
   ]
  },
  {
   "cell_type": "code",
   "execution_count": 7,
   "id": "27309413-61af-41ad-aa44-d2beea911d4a",
   "metadata": {},
   "outputs": [
    {
     "name": "stdout",
     "output_type": "stream",
     "text": [
      "enter your number3\n",
      "3 *  1 = 3\n",
      "3 *  2 = 6\n",
      "3 *  3 = 9\n",
      "3 *  4 = 12\n",
      "3 *  5 = 15\n",
      "3 *  6 = 18\n",
      "3 *  7 = 21\n",
      "3 *  8 = 24\n",
      "3 *  9 = 27\n",
      "3 *  10 = 30\n"
     ]
    }
   ],
   "source": [
    "n = int(input(\"enter your number\"))\n",
    "i = 1 \n",
    "\n",
    "while i <= 10  : \n",
    "    result = n *i\n",
    "    print(n ,\"* \" , i ,\"=\" ,result)\n",
    "    i= i+1\n",
    "    "
   ]
  },
  {
   "cell_type": "markdown",
   "id": "40025ddd",
   "metadata": {},
   "source": [
    "n = 5 \n",
    "i = 1\n",
    "while i < n :\n",
    "    print(i)\n",
    "    i = i+ 1\n",
    "else :\n",
    "    print(\"this will be executed once your while will complete it succesfully\")\n",
    "    "
   ]
  },
  {
   "cell_type": "code",
   "execution_count": 27,
   "id": "a1ca3733-7498-4636-9fe2-3279adfb4988",
   "metadata": {},
   "outputs": [
    {
     "name": "stdout",
     "output_type": "stream",
     "text": [
      "1\n",
      "2\n",
      "3\n"
     ]
    }
   ],
   "source": [
    "n = 5 \n",
    "i = 1\n",
    "while i < n :\n",
    "    print(i)\n",
    "    if i == 3 :\n",
    "        break\n",
    "    i = i+ 1\n",
    "else :\n",
    "    print(\"this will be executed once your while will complete it succesfully\")"
   ]
  },
  {
   "cell_type": "markdown",
   "id": "dda269a8",
   "metadata": {},
   "source": [
    "Write a function called common_elements(set1, set2) that takes two sets as input and returns a new set containing the elements that are common to both set1 and set2."
   ]
  },
  {
   "cell_type": "code",
   "execution_count": null,
   "id": "aa8022d7",
   "metadata": {},
   "outputs": [],
   "source": []
  }
 ],
 "metadata": {
  "kernelspec": {
   "display_name": "Python 3 (ipykernel)",
   "language": "python",
   "name": "python3"
  },
  "language_info": {
   "codemirror_mode": {
    "name": "ipython",
    "version": 3
   },
   "file_extension": ".py",
   "mimetype": "text/x-python",
   "name": "python",
   "nbconvert_exporter": "python",
   "pygments_lexer": "ipython3",
   "version": "3.10.9"
  }
 },
 "nbformat": 4,
 "nbformat_minor": 5
}
