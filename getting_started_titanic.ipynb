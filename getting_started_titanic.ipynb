{
 "cells": [
  {
   "cell_type": "code",
   "execution_count": 27,
   "metadata": {},
   "outputs": [],
   "source": [
    "import numpy as np\n",
    "import pandas as pd\n",
    "import yfinance as yf\n",
    "import matplotlib.pyplot as plt"
   ]
  },
  {
   "cell_type": "code",
   "execution_count": 17,
   "metadata": {},
   "outputs": [
    {
     "name": "stdout",
     "output_type": "stream",
     "text": [
      "[*********************100%%**********************]  1 of 1 completed\n"
     ]
    }
   ],
   "source": [
    "df = yf.download(\"^NSEI\",period=\"max\")"
   ]
  },
  {
   "cell_type": "code",
   "execution_count": 19,
   "metadata": {},
   "outputs": [
    {
     "data": {
      "text/html": [
       "<div>\n",
       "<style scoped>\n",
       "    .dataframe tbody tr th:only-of-type {\n",
       "        vertical-align: middle;\n",
       "    }\n",
       "\n",
       "    .dataframe tbody tr th {\n",
       "        vertical-align: top;\n",
       "    }\n",
       "\n",
       "    .dataframe thead th {\n",
       "        text-align: right;\n",
       "    }\n",
       "</style>\n",
       "<table border=\"1\" class=\"dataframe\">\n",
       "  <thead>\n",
       "    <tr style=\"text-align: right;\">\n",
       "      <th></th>\n",
       "      <th>Open</th>\n",
       "      <th>High</th>\n",
       "      <th>Low</th>\n",
       "      <th>Close</th>\n",
       "      <th>Adj Close</th>\n",
       "      <th>Volume</th>\n",
       "    </tr>\n",
       "    <tr>\n",
       "      <th>Date</th>\n",
       "      <th></th>\n",
       "      <th></th>\n",
       "      <th></th>\n",
       "      <th></th>\n",
       "      <th></th>\n",
       "      <th></th>\n",
       "    </tr>\n",
       "  </thead>\n",
       "  <tbody>\n",
       "    <tr>\n",
       "      <th>2023-09-26</th>\n",
       "      <td>19682.800781</td>\n",
       "      <td>19699.349609</td>\n",
       "      <td>19637.449219</td>\n",
       "      <td>19664.699219</td>\n",
       "      <td>19664.699219</td>\n",
       "      <td>204900</td>\n",
       "    </tr>\n",
       "    <tr>\n",
       "      <th>2023-09-27</th>\n",
       "      <td>19637.050781</td>\n",
       "      <td>19730.699219</td>\n",
       "      <td>19554.000000</td>\n",
       "      <td>19716.449219</td>\n",
       "      <td>19716.449219</td>\n",
       "      <td>203600</td>\n",
       "    </tr>\n",
       "    <tr>\n",
       "      <th>2023-09-28</th>\n",
       "      <td>19761.800781</td>\n",
       "      <td>19766.650391</td>\n",
       "      <td>19492.099609</td>\n",
       "      <td>19523.550781</td>\n",
       "      <td>19523.550781</td>\n",
       "      <td>352800</td>\n",
       "    </tr>\n",
       "    <tr>\n",
       "      <th>2023-09-29</th>\n",
       "      <td>19581.199219</td>\n",
       "      <td>19726.250000</td>\n",
       "      <td>19551.050781</td>\n",
       "      <td>19638.300781</td>\n",
       "      <td>19638.300781</td>\n",
       "      <td>243500</td>\n",
       "    </tr>\n",
       "    <tr>\n",
       "      <th>2023-10-03</th>\n",
       "      <td>19622.400391</td>\n",
       "      <td>19623.199219</td>\n",
       "      <td>19479.650391</td>\n",
       "      <td>19528.750000</td>\n",
       "      <td>19528.750000</td>\n",
       "      <td>0</td>\n",
       "    </tr>\n",
       "  </tbody>\n",
       "</table>\n",
       "</div>"
      ],
      "text/plain": [
       "                    Open          High           Low         Close  \\\n",
       "Date                                                                 \n",
       "2023-09-26  19682.800781  19699.349609  19637.449219  19664.699219   \n",
       "2023-09-27  19637.050781  19730.699219  19554.000000  19716.449219   \n",
       "2023-09-28  19761.800781  19766.650391  19492.099609  19523.550781   \n",
       "2023-09-29  19581.199219  19726.250000  19551.050781  19638.300781   \n",
       "2023-10-03  19622.400391  19623.199219  19479.650391  19528.750000   \n",
       "\n",
       "               Adj Close  Volume  \n",
       "Date                              \n",
       "2023-09-26  19664.699219  204900  \n",
       "2023-09-27  19716.449219  203600  \n",
       "2023-09-28  19523.550781  352800  \n",
       "2023-09-29  19638.300781  243500  \n",
       "2023-10-03  19528.750000       0  "
      ]
     },
     "execution_count": 19,
     "metadata": {},
     "output_type": "execute_result"
    }
   ],
   "source": [
    "df.tail()"
   ]
  },
  {
   "cell_type": "code",
   "execution_count": 24,
   "metadata": {},
   "outputs": [],
   "source": [
    "small_df = df.tail(10)"
   ]
  },
  {
   "cell_type": "code",
   "execution_count": 25,
   "metadata": {},
   "outputs": [
    {
     "data": {
      "text/html": [
       "<div>\n",
       "<style scoped>\n",
       "    .dataframe tbody tr th:only-of-type {\n",
       "        vertical-align: middle;\n",
       "    }\n",
       "\n",
       "    .dataframe tbody tr th {\n",
       "        vertical-align: top;\n",
       "    }\n",
       "\n",
       "    .dataframe thead th {\n",
       "        text-align: right;\n",
       "    }\n",
       "</style>\n",
       "<table border=\"1\" class=\"dataframe\">\n",
       "  <thead>\n",
       "    <tr style=\"text-align: right;\">\n",
       "      <th></th>\n",
       "      <th>Open</th>\n",
       "      <th>High</th>\n",
       "      <th>Low</th>\n",
       "      <th>Close</th>\n",
       "      <th>Adj Close</th>\n",
       "      <th>Volume</th>\n",
       "    </tr>\n",
       "    <tr>\n",
       "      <th>Date</th>\n",
       "      <th></th>\n",
       "      <th></th>\n",
       "      <th></th>\n",
       "      <th></th>\n",
       "      <th></th>\n",
       "      <th></th>\n",
       "    </tr>\n",
       "  </thead>\n",
       "  <tbody>\n",
       "    <tr>\n",
       "      <th>2023-09-18</th>\n",
       "      <td>20155.949219</td>\n",
       "      <td>20195.349609</td>\n",
       "      <td>20115.699219</td>\n",
       "      <td>20133.300781</td>\n",
       "      <td>20133.300781</td>\n",
       "      <td>264900</td>\n",
       "    </tr>\n",
       "    <tr>\n",
       "      <th>2023-09-20</th>\n",
       "      <td>19980.750000</td>\n",
       "      <td>20050.650391</td>\n",
       "      <td>19878.849609</td>\n",
       "      <td>19901.400391</td>\n",
       "      <td>19901.400391</td>\n",
       "      <td>378100</td>\n",
       "    </tr>\n",
       "    <tr>\n",
       "      <th>2023-09-21</th>\n",
       "      <td>19840.550781</td>\n",
       "      <td>19848.750000</td>\n",
       "      <td>19709.949219</td>\n",
       "      <td>19742.349609</td>\n",
       "      <td>19742.349609</td>\n",
       "      <td>275100</td>\n",
       "    </tr>\n",
       "    <tr>\n",
       "      <th>2023-09-22</th>\n",
       "      <td>19744.849609</td>\n",
       "      <td>19798.650391</td>\n",
       "      <td>19657.500000</td>\n",
       "      <td>19674.250000</td>\n",
       "      <td>19674.250000</td>\n",
       "      <td>246400</td>\n",
       "    </tr>\n",
       "    <tr>\n",
       "      <th>2023-09-25</th>\n",
       "      <td>19678.199219</td>\n",
       "      <td>19734.150391</td>\n",
       "      <td>19601.550781</td>\n",
       "      <td>19674.550781</td>\n",
       "      <td>19674.550781</td>\n",
       "      <td>188400</td>\n",
       "    </tr>\n",
       "    <tr>\n",
       "      <th>2023-09-26</th>\n",
       "      <td>19682.800781</td>\n",
       "      <td>19699.349609</td>\n",
       "      <td>19637.449219</td>\n",
       "      <td>19664.699219</td>\n",
       "      <td>19664.699219</td>\n",
       "      <td>204900</td>\n",
       "    </tr>\n",
       "    <tr>\n",
       "      <th>2023-09-27</th>\n",
       "      <td>19637.050781</td>\n",
       "      <td>19730.699219</td>\n",
       "      <td>19554.000000</td>\n",
       "      <td>19716.449219</td>\n",
       "      <td>19716.449219</td>\n",
       "      <td>203600</td>\n",
       "    </tr>\n",
       "    <tr>\n",
       "      <th>2023-09-28</th>\n",
       "      <td>19761.800781</td>\n",
       "      <td>19766.650391</td>\n",
       "      <td>19492.099609</td>\n",
       "      <td>19523.550781</td>\n",
       "      <td>19523.550781</td>\n",
       "      <td>352800</td>\n",
       "    </tr>\n",
       "    <tr>\n",
       "      <th>2023-09-29</th>\n",
       "      <td>19581.199219</td>\n",
       "      <td>19726.250000</td>\n",
       "      <td>19551.050781</td>\n",
       "      <td>19638.300781</td>\n",
       "      <td>19638.300781</td>\n",
       "      <td>243500</td>\n",
       "    </tr>\n",
       "    <tr>\n",
       "      <th>2023-10-03</th>\n",
       "      <td>19622.400391</td>\n",
       "      <td>19623.199219</td>\n",
       "      <td>19479.650391</td>\n",
       "      <td>19528.750000</td>\n",
       "      <td>19528.750000</td>\n",
       "      <td>0</td>\n",
       "    </tr>\n",
       "  </tbody>\n",
       "</table>\n",
       "</div>"
      ],
      "text/plain": [
       "                    Open          High           Low         Close  \\\n",
       "Date                                                                 \n",
       "2023-09-18  20155.949219  20195.349609  20115.699219  20133.300781   \n",
       "2023-09-20  19980.750000  20050.650391  19878.849609  19901.400391   \n",
       "2023-09-21  19840.550781  19848.750000  19709.949219  19742.349609   \n",
       "2023-09-22  19744.849609  19798.650391  19657.500000  19674.250000   \n",
       "2023-09-25  19678.199219  19734.150391  19601.550781  19674.550781   \n",
       "2023-09-26  19682.800781  19699.349609  19637.449219  19664.699219   \n",
       "2023-09-27  19637.050781  19730.699219  19554.000000  19716.449219   \n",
       "2023-09-28  19761.800781  19766.650391  19492.099609  19523.550781   \n",
       "2023-09-29  19581.199219  19726.250000  19551.050781  19638.300781   \n",
       "2023-10-03  19622.400391  19623.199219  19479.650391  19528.750000   \n",
       "\n",
       "               Adj Close  Volume  \n",
       "Date                              \n",
       "2023-09-18  20133.300781  264900  \n",
       "2023-09-20  19901.400391  378100  \n",
       "2023-09-21  19742.349609  275100  \n",
       "2023-09-22  19674.250000  246400  \n",
       "2023-09-25  19674.550781  188400  \n",
       "2023-09-26  19664.699219  204900  \n",
       "2023-09-27  19716.449219  203600  \n",
       "2023-09-28  19523.550781  352800  \n",
       "2023-09-29  19638.300781  243500  \n",
       "2023-10-03  19528.750000       0  "
      ]
     },
     "execution_count": 25,
     "metadata": {},
     "output_type": "execute_result"
    }
   ],
   "source": [
    "small_df"
   ]
  },
  {
   "cell_type": "code",
   "execution_count": 26,
   "metadata": {},
   "outputs": [],
   "source": [
    "X=small_df[\"High\"]\n",
    "Y=small_df[\"Low\"]"
   ]
  },
  {
   "cell_type": "code",
   "execution_count": 28,
   "metadata": {},
   "outputs": [
    {
     "data": {
      "text/plain": [
       "<Axes: xlabel='High'>"
      ]
     },
     "execution_count": 28,
     "metadata": {},
     "output_type": "execute_result"
    },
    {
     "data": {
      "image/png": "[encoded data removed]",
      "text/plain": [
       "<Figure size 640x480 with 1 Axes>"
      ]
     },
     "metadata": {},
     "output_type": "display_data"
    }
   ],
   "source": [
    "small_df.plot()"
   ]
  },
  {
   "cell_type": "code",
   "execution_count": null,
   "metadata": {},
   "outputs": [],
   "source": []
  }
 ],
 "metadata": {
  "kernelspec": {
   "display_name": "base",
   "language": "python",
   "name": "python3"
  },
  "language_info": {
   "codemirror_mode": {
    "name": "ipython",
    "version": 3
   },
   "file_extension": ".py",
   "mimetype": "text/x-python",
   "name": "python",
   "nbconvert_exporter": "python",
   "pygments_lexer": "ipython3",
   "version": "3.10.9"
  },
  "orig_nbformat": 4
 },
 "nbformat": 4,
 "nbformat_minor": 2
}
